-- 1. 	1. Create a database called house_price_regression.
CREATE DATABASE IF NOT EXISTS house_price_regression;

-- Usar la base de datos
USE house_price_regression;

-- 2. Create a table house_price_data with the same columns as given in the csv file. 
CREATE TABLE IF NOT EXISTS house_price_data (
    `id` bigint,
    `date` DATE,
    `bedrooms` INT,
    `bathrooms` FLOAT,
    `sqft_living` INT,
    `sqft_lot` INT,
    `floors` FLOAT,
    `waterfront` INT,
    `view` INT,
    `condition` INT,
    `grade` INT,
    `sqft_above` INT,
    `sqft_basement` INT,
    `yr_built` INT,
    `yr_renovated` INT,
    `zipcode` INT,
    `lat` FLOAT,
    `long` FLOAT,
    `sqft_living15` INT,
    `sqft_lot15` INT,
    `price` INT
);
-- A partir de aqui puedes integrar el fichero de datos

-- 3. Import the data from the csv file into the table. Before you import the data into the empty table, make sure that you have deleted the headers from the csv file. To not modify the original data, if you want you can create a copy of the csv file as well. Note you might have to use the following queries to give permission to SQL to import data from csv files in bulk:
-- 4. Select all the data from table house_price_data to check if the data was imported correctly
USE house_price_regression;
SELECT * FROM house_price_regression.house_price_data;

-- 5. Use the alter table command to drop the column date from the database, as we would not use it in the analysis with SQL. 
-- Select all the data from the table to verify if the command worked. Limit your returned results to 10.
ALTER TABLE house_price_data DROP COLUMN date;
SELECT * FROM house_price_regression.house_price_data;

-- 6. Use sql query to find how many rows of data you have.
SELECT COUNT(*) AS total_rows FROM house_price_data;

-- 	7. Now we will try to find the unique values in some of the categorical columns:
	-- 	7.1 What are the unique values in the column bedrooms?
			SELECT DISTINCT bedrooms FROM house_price_data
            ORDER BY bedrooms DESC;
	-- 	7.2 What are the unique values in the column bathrooms? (considero interesante ordenarlos de forma descendiente para ver los extremos de la tabla)
			SELECT DISTINCT bathrooms FROM house_price_data
            ORDER BY bathrooms DESC;
    -- 	7.3 What are the unique values in the column floors?
			SELECT DISTINCT floors FROM house_price_data
            ORDER BY floors DESC;
    -- 	7.4 What are the unique values in the column condition? (hemos tenido que meterlo entre comillas invertidas para evitar confusion con elemntos nativos de SQL)
			SELECT DISTINCT `condition` FROM house_price_data
            ORDER BY `condition` DESC;
    -- 	7.5 What are the unique values in the column grade?
			SELECT DISTINCT grade FROM house_price_data
            ORDER BY grade DESC;
            
-- 	8. Arrange the data in a decreasing order by the price of the house. Return only the IDs of the top 10 most expensive houses in your data.
SELECT * 
FROM house_price_regression.house_price_data
ORDER BY price DESC
LIMIT 10;

-- 	9. What is the average price of all the properties in your data?
SELECT AVG(price) AS average_price_properties
FROM house_price_data;

-- 10. In this exercise we will use simple group by to check the properties of some of the categorical variables in our data
	-- 10.1 What is the average price of the houses grouped by bedrooms? 
    -- The returned result should have only two columns, bedrooms and Average of the prices. Use an alias to change the name of the second column.
		SELECT bedrooms, AVG(price) AS average_price_number_bedrooms
		FROM house_price_data
        GROUP BY bedrooms;
    
	-- 10.2 What is the average sqft_living of the houses grouped by bedrooms? 
    -- The returned result should have only two columns, bedrooms and Average of the sqft_living. Use an alias to change the name of the second column.
		SELECT bedrooms, AVG(sqft_living) AS average_price_sqft
		FROM house_price_data
        GROUP BY bedrooms;	
    
    -- 10.3 What is the average price of the houses with a waterfront and without a waterfront? 
    -- The returned result should have only two columns, waterfront and Average of the prices. Use an alias to change the name of the second column.
		SELECT waterfront, AVG(price) AS average_price_waterfront
        FROM house_price_data
        GROUP BY waterfront
        HAVING waterfront = 1;
    
    -- 10.4 Is there any correlation between the columns condition and grade? 
    -- You can analyse this by grouping the data by one of the variables and then aggregating the results of the other column. 
    -- Visually check if there is a positive correlation or negative correlation or no correlation between the variables.
		SELECT `condition`, SUM(grade) AS check_correl_grade_condition
		FROM house_price_data
        GROUP BY `condition`
        ORDER BY `condition` DESC;	
        
	-- Check de lo opuesto:
		SELECT grade, SUM(`condition`) AS check_correl_condition_grade
		FROM house_price_data
        GROUP BY grade
        ORDER BY grade DESC;
        
-- 	11. One of the customers is only interested in the following houses:
	-- Number of bedrooms either 3 or 4
	-- Bathrooms more than 3
	-- One Floor
	-- No waterfront
	-- Condition should be 3 at least
	-- Grade should be 5 at least
	-- Price less than 300000
-- For the rest of the things, they are not too concerned. Write a simple query to find what are the options available for them?
SELECT * 
FROM house_price_data
WHERE bedrooms BETWEEN 3 AND 4
AND bathrooms >= 3
AND floors =1
AND waterfront = 0
AND `condition` >= 3
AND grade >=5
AND price < 300000;

-- 	12. Your manager wants to find out the list of properties whose prices are twice more than the average of all the properties in the database. 
-- Write a query to show them the list of such properties. You might need to use a sub query for this problem.
SELECT * 
FROM house_price_data
WHERE price > 2 * (SELECT AVG(price) FROM house_price_data);

-- 13. Since this is something that the senior management is regularly interested in, create a view of the same query.
CREATE VIEW vista_precios_altos AS
SELECT *
FROM house_price_data
WHERE price > 2 * (SELECT AVG(price) FROM house_price_data);

SELECT * FROM vista_precios_altos;

-- 	14. Most customers are interested in properties with three or four bedrooms. What is the difference in average prices of the properties with three and four bedrooms?
SELECT 
    AVG(CASE WHEN bedrooms = 3 THEN price ELSE 0 END) AS avg_price_3_bedrooms,
    AVG(CASE WHEN bedrooms = 4 THEN price ELSE 0 END) AS avg_price_4_bedrooms,
    AVG(CASE WHEN bedrooms = 3 THEN price ELSE 0 END) -
    AVG(CASE WHEN bedrooms = 4 THEN price ELSE 0 END) AS price_difference
FROM 
    house_price_data
WHERE 
    bedrooms IN (3, 4);
    
    -- 	15. What are the different locations where properties are available in your database? (distinct zip codes)
    -- Si analizamos la lista de zip codes: 
SELECT DISTINCT zipcode FROM house_price_data;
    -- Si analizamos el numero de zip codes:
SELECT COUNT(zipcode) FROM house_price_data;

-- 16. Show the list of all the properties that were renovated.
SELECT * 
FROM house_price_regression.house_price_data
WHERE yr_renovated != 0;

-- 	17. Provide the details of the property that is the 11th most expensive property in your database.
SELECT *
FROM house_price_data
ORDER BY price DESC
LIMIT 1 OFFSET 10; -- Con el OFFSET te saltas las primeras 10 filas





